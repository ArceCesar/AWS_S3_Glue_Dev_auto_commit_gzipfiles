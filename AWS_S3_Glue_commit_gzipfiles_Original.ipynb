{
 "cells": [
  {
   "cell_type": "markdown",
   "id": "266442be",
   "metadata": {
    "hide_input": false
   },
   "source": [
    "## Original Script to transfert AWS S3 Glue commit gzip files"
   ]
  },
  {
   "cell_type": "code",
   "execution_count": null,
   "id": "f6603c9c",
   "metadata": {
    "hide_input": false
   },
   "outputs": [],
   "source": [
    "# Import Libraries\n",
    "import sys\n",
    "import boto3"
   ]
  },
  {
   "cell_type": "code",
   "execution_count": null,
   "id": "df555f57",
   "metadata": {
    "hide_input": false
   },
   "outputs": [],
   "source": [
    "bucketname = \"agropur-global-nonprod-account-dev-sapco\"\n",
    "s3 = boto3.resource('s3')\n",
    "my_bucket = s3.Bucket(bucketname)\n",
    "source = \"SAPCO/Inbound/Financials/Costing\"\n",
    "target = \"SAPCO/Archive/Financials/Costing\""
   ]
  },
  {
   "cell_type": "code",
   "execution_count": null,
   "id": "745544d1",
   "metadata": {
    "hide_input": false
   },
   "outputs": [],
   "source": [
    "for obj in my_bucket.object.filter(Prefix=source):\n",
    "    source_filename = (obj.key).split(\"/\")[-1]\n",
    "    copy_source = {\n",
    "        'Bucket':bucketname,\n",
    "        'Key':obj.key\n",
    "    }\n",
    "    target_filename = \"{}/{}\".format(target, source_filename)\n",
    "    s3.meta.client.copy(copy_source, bucketname, target_filename)\n",
    "    # Unconnect the line below if you wish the delete the original source file\n",
    "    # s3.Object(bucketname, obj.key).delete()"
   ]
  }
 ],
 "metadata": {
  "hide_input": false,
  "kernelspec": {
   "display_name": "Python 3 (ipykernel)",
   "language": "python",
   "name": "python3"
  },
  "language_info": {
   "codemirror_mode": {
    "name": "ipython",
    "version": 3
   },
   "file_extension": ".py",
   "mimetype": "text/x-python",
   "name": "python",
   "nbconvert_exporter": "python",
   "pygments_lexer": "ipython3",
   "version": "3.9.13"
  },
  "nbTranslate": {
   "displayLangs": [
    "*"
   ],
   "hotkey": "alt-t",
   "langInMainMenu": true,
   "sourceLang": "en",
   "targetLang": "fr",
   "useGoogleTranslate": true
  },
  "varInspector": {
   "cols": {
    "lenName": 16,
    "lenType": 16,
    "lenVar": 40
   },
   "kernels_config": {
    "python": {
     "delete_cmd_postfix": "",
     "delete_cmd_prefix": "del ",
     "library": "var_list.py",
     "varRefreshCmd": "print(var_dic_list())"
    },
    "r": {
     "delete_cmd_postfix": ") ",
     "delete_cmd_prefix": "rm(",
     "library": "var_list.r",
     "varRefreshCmd": "cat(var_dic_list()) "
    }
   },
   "types_to_exclude": [
    "module",
    "function",
    "builtin_function_or_method",
    "instance",
    "_Feature"
   ],
   "window_display": false
  }
 },
 "nbformat": 4,
 "nbformat_minor": 5
}
